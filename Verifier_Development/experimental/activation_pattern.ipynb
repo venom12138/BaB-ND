{
 "cells": [
  {
   "cell_type": "code",
   "execution_count": 23,
   "source": [
    "from src.model_defs import mnist_cnn_4layer\n",
    "from auto_LiRPA import BoundedModule, BoundedTensor\n",
    "import torch\n",
    "import torchvision\n",
    "from autoattack import AutoAttack\n",
    "import random\n",
    "from src.attack_pgd import attack_pgd"
   ],
   "outputs": [],
   "metadata": {}
  },
  {
   "cell_type": "code",
   "execution_count": 24,
   "source": [
    "device=\"cuda\""
   ],
   "outputs": [],
   "metadata": {}
  },
  {
   "cell_type": "code",
   "execution_count": 25,
   "source": [
    "adv_data = torch.load(\"madrycnn_diversity_pgd.torch\")\n",
    "adv_data.shape"
   ],
   "outputs": [
    {
     "output_type": "execute_result",
     "data": {
      "text/plain": [
       "torch.Size([100, 100, 28, 28])"
      ]
     },
     "metadata": {},
     "execution_count": 25
    }
   ],
   "metadata": {}
  },
  {
   "cell_type": "code",
   "execution_count": 26,
   "source": [
    "relus = []\n",
    "for m in model.modules():\n",
    "    if isinstance(m, torch.nn.ReLU):\n",
    "        relus.append([None,None,None])"
   ],
   "outputs": [],
   "metadata": {}
  },
  {
   "cell_type": "code",
   "execution_count": 27,
   "source": [
    "N = 100\n",
    "for n in range(N):\n",
    "    x_adv = adv_data[n].unsqueeze(1)\n",
    "    x_adv.to(device)\n",
    "\n",
    "    x = x_adv\n",
    "    \n",
    "    relu_idx = 0\n",
    "    for module in model.children():\n",
    "        if isinstance(module, torch.nn.ReLU):\n",
    "            if relus[relu_idx][0] is None:\n",
    "                relus[relu_idx] = [torch.zeros_like(x_adv.flatten()), torch.zeros_like(x_adv.flatten()), torch.zeros_like(x_adv.flatten())]\n",
    "            relus[relu_idx][0] += x_adv.flatten() > 0\n",
    "            relus[relu_idx][1] += x_adv.flatten() == 0\n",
    "            relus[relu_idx][2] += x_adv.flatten() < 0\n",
    "\n",
    "            relu_idx += 1\n",
    "        x_adv = module(x_adv)\n",
    "\n",
    "    "
   ],
   "outputs": [],
   "metadata": {}
  },
  {
   "cell_type": "code",
   "execution_count": 28,
   "source": [
    "import matplotlib.pyplot as plt"
   ],
   "outputs": [],
   "metadata": {}
  },
  {
   "cell_type": "code",
   "execution_count": 29,
   "source": [
    "\n",
    "for i in range(len(relus)):\n",
    "    relu_sum = sum(relus[i])+3\n",
    "    relus[i] = [list(((r+1)/relu_sum).detach().cpu().numpy()) for r in relus[i]]"
   ],
   "outputs": [],
   "metadata": {}
  },
  {
   "cell_type": "code",
   "execution_count": 30,
   "source": [
    "import numpy as np"
   ],
   "outputs": [],
   "metadata": {}
  },
  {
   "cell_type": "code",
   "execution_count": 35,
   "source": [
    "plt.hist(relus[0][0])"
   ],
   "outputs": [
    {
     "output_type": "execute_result",
     "data": {
      "text/plain": [
       "(array([124436.,  26268.,  14220.,   8954.,   7316.,   6978.,  10185.,\n",
       "         12488.,  17229.,  85526.]),\n",
       " array([0.00970874, 0.10679612, 0.2038835 , 0.30097088, 0.39805827,\n",
       "        0.49514565, 0.592233  , 0.6893204 , 0.78640777, 0.88349515,\n",
       "        0.98058254], dtype=float32),\n",
       " <BarContainer object of 10 artists>)"
      ]
     },
     "metadata": {},
     "execution_count": 35
    },
    {
     "output_type": "display_data",
     "data": {
      "image/png": "[encoded data removed]",
      "text/plain": [
       "<Figure size 432x288 with 1 Axes>"
      ]
     },
     "metadata": {
      "needs_background": "light"
     }
    }
   ],
   "metadata": {}
  },
  {
   "cell_type": "code",
   "execution_count": null,
   "source": [],
   "outputs": [],
   "metadata": {}
  }
 ],
 "metadata": {
  "orig_nbformat": 4,
  "language_info": {
   "name": "python",
   "version": "3.7.10",
   "mimetype": "text/x-python",
   "codemirror_mode": {
    "name": "ipython",
    "version": 3
   },
   "pygments_lexer": "ipython3",
   "nbconvert_exporter": "python",
   "file_extension": ".py"
  },
  "kernelspec": {
   "name": "python3",
   "display_name": "Python 3.7.10 64-bit ('torch': conda)"
  },
  "interpreter": {
   "hash": "55559f2be42a5b6cb796781e868e42274b92524fa645acedffc2257e2d2820dc"
  }
 },
 "nbformat": 4,
 "nbformat_minor": 2
}